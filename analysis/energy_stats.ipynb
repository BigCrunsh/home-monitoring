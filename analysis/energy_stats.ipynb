{
 "cells": [
  {
   "cell_type": "markdown",
   "id": "e03b7921",
   "metadata": {},
   "source": [
    "# Energy Statistics"
   ]
  },
  {
   "cell_type": "markdown",
   "id": "c71349a0",
   "metadata": {},
   "source": [
    "Simple notebook to extract general stats about the energy production and consumption."
   ]
  },
  {
   "cell_type": "code",
   "execution_count": 2,
   "id": "daf50a63",
   "metadata": {},
   "outputs": [],
   "source": [
    "import aioinflux\n",
    "import os\n",
    "import numpy as np\n",
    "import pandas as pd\n",
    "from datetime import datetime"
   ]
  },
  {
   "cell_type": "code",
   "execution_count": 3,
   "id": "569bda57",
   "metadata": {},
   "outputs": [],
   "source": [
    "kwargs = {\n",
    "    'host': '192.168.178.47',\n",
    "    'port': os.getenv('INFLUXDB_PORT'),\n",
    "    'username': os.getenv('INFLUXDB_USER'),\n",
    "    'password': os.getenv('INFLUXDB_PASS'),\n",
    "    'db': os.getenv('INFLUXDB_DB'),\n",
    "    'output': 'dataframe'\n",
    "}"
   ]
  },
  {
   "cell_type": "code",
   "execution_count": 4,
   "id": "49b00808",
   "metadata": {},
   "outputs": [
    {
     "name": "stdout",
     "output_type": "stream",
     "text": [
      "Today is 2021-04-27\n"
     ]
    }
   ],
   "source": [
    "today = datetime.today().date()\n",
    "print(f\"Today is {today}\")"
   ]
  },
  {
   "cell_type": "code",
   "execution_count": 5,
   "id": "97183e06",
   "metadata": {},
   "outputs": [],
   "source": [
    "def round50(df):\n",
    "    \"\"\"Round values to 50s\"\"\"\n",
    "    fac = 0.02\n",
    "    return (df*fac).round(decimals=0)/fac"
   ]
  },
  {
   "cell_type": "code",
   "execution_count": 6,
   "id": "d1a12bae",
   "metadata": {},
   "outputs": [],
   "source": [
    "measurement = 'electricity_energy_watthour'\n",
    "async with aioinflux.InfluxDBClient(**kwargs) as ifclient:\n",
    "    df_energy = await ifclient.query(f\"\"\"\n",
    "        SELECT * FROM {measurement}\n",
    "    \"\"\")"
   ]
  },
  {
   "cell_type": "code",
   "execution_count": 7,
   "id": "40dd3749",
   "metadata": {},
   "outputs": [
    {
     "name": "stderr",
     "output_type": "stream",
     "text": [
      "/Users/christoph.sawade/Library/Python/3.8/lib/python/site-packages/pandas/core/indexes/base.py:5277: FutureWarning: Indexing a timezone-aware DatetimeIndex with a timezone-naive datetime is deprecated and will raise KeyError in a future version.  Use a timezone-aware object instead.\n",
      "  start_slice, end_slice = self.slice_locs(start, end, step=step, kind=kind)\n"
     ]
    },
    {
     "data": {
      "text/html": [
       "<div>\n",
       "<style scoped>\n",
       "    .dataframe tbody tr th:only-of-type {\n",
       "        vertical-align: middle;\n",
       "    }\n",
       "\n",
       "    .dataframe tbody tr th {\n",
       "        vertical-align: top;\n",
       "    }\n",
       "\n",
       "    .dataframe thead th {\n",
       "        text-align: right;\n",
       "    }\n",
       "</style>\n",
       "<table border=\"1\" class=\"dataframe\">\n",
       "  <thead>\n",
       "    <tr style=\"text-align: right;\">\n",
       "      <th></th>\n",
       "      <th>Consumption</th>\n",
       "      <th>FeedIn</th>\n",
       "      <th>Production</th>\n",
       "      <th>Purchased</th>\n",
       "      <th>SelfConsumption</th>\n",
       "    </tr>\n",
       "  </thead>\n",
       "  <tbody>\n",
       "    <tr>\n",
       "      <th>0.10</th>\n",
       "      <td>5150.0</td>\n",
       "      <td>50.0</td>\n",
       "      <td>1000.0</td>\n",
       "      <td>2300.0</td>\n",
       "      <td>850.0</td>\n",
       "    </tr>\n",
       "    <tr>\n",
       "      <th>0.25</th>\n",
       "      <td>6050.0</td>\n",
       "      <td>1600.0</td>\n",
       "      <td>3450.0</td>\n",
       "      <td>2800.0</td>\n",
       "      <td>1650.0</td>\n",
       "    </tr>\n",
       "    <tr>\n",
       "      <th>0.50</th>\n",
       "      <td>7200.0</td>\n",
       "      <td>6850.0</td>\n",
       "      <td>9650.0</td>\n",
       "      <td>4000.0</td>\n",
       "      <td>2700.0</td>\n",
       "    </tr>\n",
       "    <tr>\n",
       "      <th>0.75</th>\n",
       "      <td>8400.0</td>\n",
       "      <td>12600.0</td>\n",
       "      <td>16550.0</td>\n",
       "      <td>6000.0</td>\n",
       "      <td>3850.0</td>\n",
       "    </tr>\n",
       "    <tr>\n",
       "      <th>0.90</th>\n",
       "      <td>9950.0</td>\n",
       "      <td>16300.0</td>\n",
       "      <td>20100.0</td>\n",
       "      <td>8600.0</td>\n",
       "      <td>4750.0</td>\n",
       "    </tr>\n",
       "  </tbody>\n",
       "</table>\n",
       "</div>"
      ],
      "text/plain": [
       "      Consumption   FeedIn  Production  Purchased  SelfConsumption\n",
       "0.10       5150.0     50.0      1000.0     2300.0            850.0\n",
       "0.25       6050.0   1600.0      3450.0     2800.0           1650.0\n",
       "0.50       7200.0   6850.0      9650.0     4000.0           2700.0\n",
       "0.75       8400.0  12600.0     16550.0     6000.0           3850.0\n",
       "0.90       9950.0  16300.0     20100.0     8600.0           4750.0"
      ]
     },
     "execution_count": 7,
     "metadata": {},
     "output_type": "execute_result"
    }
   ],
   "source": [
    "# consider only last year\n",
    "d = df_energy[today-pd.DateOffset(years=1):today]\n",
    "\n",
    "round50(\n",
    "    d\n",
    "    .groupby(d.index.date)\n",
    "    .sum()\n",
    "    .quantile(q=[0.1, 0.25, 0.5, 0.75, 0.9])\n",
    ")"
   ]
  },
  {
   "cell_type": "code",
   "execution_count": 8,
   "id": "c1fd358b",
   "metadata": {},
   "outputs": [],
   "source": [
    "measurement = 'electricity_power_watt'\n",
    "async with aioinflux.InfluxDBClient(**kwargs) as ifclient:\n",
    "    df_power = await ifclient.query(f\"\"\"\n",
    "        SELECT * FROM {measurement}\n",
    "    \"\"\")"
   ]
  },
  {
   "cell_type": "code",
   "execution_count": 9,
   "id": "890aefc3",
   "metadata": {},
   "outputs": [
    {
     "name": "stderr",
     "output_type": "stream",
     "text": [
      "/Users/christoph.sawade/Library/Python/3.8/lib/python/site-packages/pandas/core/indexes/base.py:5277: FutureWarning: Indexing a timezone-aware DatetimeIndex with a timezone-naive datetime is deprecated and will raise KeyError in a future version.  Use a timezone-aware object instead.\n",
      "  start_slice, end_slice = self.slice_locs(start, end, step=step, kind=kind)\n"
     ]
    },
    {
     "data": {
      "text/html": [
       "<div>\n",
       "<style scoped>\n",
       "    .dataframe tbody tr th:only-of-type {\n",
       "        vertical-align: middle;\n",
       "    }\n",
       "\n",
       "    .dataframe tbody tr th {\n",
       "        vertical-align: top;\n",
       "    }\n",
       "\n",
       "    .dataframe thead th {\n",
       "        text-align: right;\n",
       "    }\n",
       "</style>\n",
       "<table border=\"1\" class=\"dataframe\">\n",
       "  <thead>\n",
       "    <tr style=\"text-align: right;\">\n",
       "      <th></th>\n",
       "      <th>Consumption</th>\n",
       "      <th>FeedIn</th>\n",
       "      <th>Production</th>\n",
       "      <th>Purchased</th>\n",
       "      <th>SelfConsumption</th>\n",
       "    </tr>\n",
       "  </thead>\n",
       "  <tbody>\n",
       "    <tr>\n",
       "      <th>0.50</th>\n",
       "      <td>200.0</td>\n",
       "      <td>0.0</td>\n",
       "      <td>250.0</td>\n",
       "      <td>150.0</td>\n",
       "      <td>0.0</td>\n",
       "    </tr>\n",
       "    <tr>\n",
       "      <th>0.75</th>\n",
       "      <td>250.0</td>\n",
       "      <td>300.0</td>\n",
       "      <td>1100.0</td>\n",
       "      <td>250.0</td>\n",
       "      <td>150.0</td>\n",
       "    </tr>\n",
       "    <tr>\n",
       "      <th>0.90</th>\n",
       "      <td>350.0</td>\n",
       "      <td>1350.0</td>\n",
       "      <td>2050.0</td>\n",
       "      <td>300.0</td>\n",
       "      <td>250.0</td>\n",
       "    </tr>\n",
       "    <tr>\n",
       "      <th>0.95</th>\n",
       "      <td>950.0</td>\n",
       "      <td>1900.0</td>\n",
       "      <td>2450.0</td>\n",
       "      <td>500.0</td>\n",
       "      <td>300.0</td>\n",
       "    </tr>\n",
       "    <tr>\n",
       "      <th>0.99</th>\n",
       "      <td>2550.0</td>\n",
       "      <td>2350.0</td>\n",
       "      <td>2650.0</td>\n",
       "      <td>2000.0</td>\n",
       "      <td>1050.0</td>\n",
       "    </tr>\n",
       "  </tbody>\n",
       "</table>\n",
       "</div>"
      ],
      "text/plain": [
       "      Consumption  FeedIn  Production  Purchased  SelfConsumption\n",
       "0.50        200.0     0.0       250.0      150.0              0.0\n",
       "0.75        250.0   300.0      1100.0      250.0            150.0\n",
       "0.90        350.0  1350.0      2050.0      300.0            250.0\n",
       "0.95        950.0  1900.0      2450.0      500.0            300.0\n",
       "0.99       2550.0  2350.0      2650.0     2000.0           1050.0"
      ]
     },
     "execution_count": 9,
     "metadata": {},
     "output_type": "execute_result"
    }
   ],
   "source": [
    "# consider only last year\n",
    "d = df_power[today-pd.DateOffset(years=1):today]\n",
    "\n",
    "# ignore lower half (quiescent current)\n",
    "#d[d<=d.quantile(q=0.5, axis=0)]=np.nan\n",
    "\n",
    "round50(\n",
    "    d\n",
    "    .quantile(q=[0.5, 0.75, 0.9, 0.95, 0.99], axis=0)\n",
    ")"
   ]
  },
  {
   "cell_type": "code",
   "execution_count": null,
   "id": "c5032dde",
   "metadata": {},
   "outputs": [],
   "source": []
  }
 ],
 "metadata": {
  "kernelspec": {
   "display_name": "Python 3",
   "language": "python",
   "name": "python3"
  },
  "language_info": {
   "codemirror_mode": {
    "name": "ipython",
    "version": 3
   },
   "file_extension": ".py",
   "mimetype": "text/x-python",
   "name": "python",
   "nbconvert_exporter": "python",
   "pygments_lexer": "ipython3",
   "version": "3.8.2"
  }
 },
 "nbformat": 4,
 "nbformat_minor": 5
}

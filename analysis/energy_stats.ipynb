{
 "cells": [
  {
   "cell_type": "markdown",
   "id": "e03b7921",
   "metadata": {},
   "source": [
    "# Energy Statistics"
   ]
  },
  {
   "cell_type": "markdown",
   "id": "c71349a0",
   "metadata": {},
   "source": [
    "Simple notebook to extract general stats about the energy production and consumption."
   ]
  },
  {
   "cell_type": "code",
   "execution_count": 1,
   "id": "daf50a63",
   "metadata": {},
   "outputs": [],
   "source": [
    "import aioinflux\n",
    "import os"
   ]
  },
  {
   "cell_type": "code",
   "execution_count": 2,
   "id": "569bda57",
   "metadata": {},
   "outputs": [],
   "source": [
    "kwargs = {\n",
    "    'host': '192.168.178.47',\n",
    "    'port': os.getenv('INFLUXDB_PORT'),\n",
    "    'username': os.getenv('INFLUXDB_USER'),\n",
    "    'password': os.getenv('INFLUXDB_PASS'),\n",
    "    'db': os.getenv('INFLUXDB_DB'),\n",
    "    'output': 'dataframe'\n",
    "}"
   ]
  },
  {
   "cell_type": "code",
   "execution_count": 3,
   "id": "d1a12bae",
   "metadata": {},
   "outputs": [],
   "source": [
    "measurement = 'electricity_energy_watthour'\n",
    "async with aioinflux.InfluxDBClient(**kwargs) as ifclient:\n",
    "    df_energy = await ifclient.query(f\"\"\"\n",
    "        SELECT * FROM {measurement}\n",
    "    \"\"\")"
   ]
  },
  {
   "cell_type": "code",
   "execution_count": 4,
   "id": "40dd3749",
   "metadata": {},
   "outputs": [
    {
     "data": {
      "text/html": [
       "<div>\n",
       "<style scoped>\n",
       "    .dataframe tbody tr th:only-of-type {\n",
       "        vertical-align: middle;\n",
       "    }\n",
       "\n",
       "    .dataframe tbody tr th {\n",
       "        vertical-align: top;\n",
       "    }\n",
       "\n",
       "    .dataframe thead th {\n",
       "        text-align: right;\n",
       "    }\n",
       "</style>\n",
       "<table border=\"1\" class=\"dataframe\">\n",
       "  <thead>\n",
       "    <tr style=\"text-align: right;\">\n",
       "      <th></th>\n",
       "      <th>Consumption</th>\n",
       "      <th>FeedIn</th>\n",
       "      <th>Production</th>\n",
       "      <th>Purchased</th>\n",
       "      <th>SelfConsumption</th>\n",
       "    </tr>\n",
       "  </thead>\n",
       "  <tbody>\n",
       "    <tr>\n",
       "      <th>0.10</th>\n",
       "      <td>4762.2</td>\n",
       "      <td>70.0</td>\n",
       "      <td>931.0</td>\n",
       "      <td>2421.8</td>\n",
       "      <td>752.0</td>\n",
       "    </tr>\n",
       "    <tr>\n",
       "      <th>0.25</th>\n",
       "      <td>5756.0</td>\n",
       "      <td>1225.5</td>\n",
       "      <td>2729.0</td>\n",
       "      <td>3062.0</td>\n",
       "      <td>1312.0</td>\n",
       "    </tr>\n",
       "    <tr>\n",
       "      <th>0.50</th>\n",
       "      <td>6863.0</td>\n",
       "      <td>5256.0</td>\n",
       "      <td>7779.0</td>\n",
       "      <td>4086.0</td>\n",
       "      <td>2332.0</td>\n",
       "    </tr>\n",
       "    <tr>\n",
       "      <th>0.75</th>\n",
       "      <td>8097.0</td>\n",
       "      <td>12004.0</td>\n",
       "      <td>15824.0</td>\n",
       "      <td>5620.5</td>\n",
       "      <td>3518.0</td>\n",
       "    </tr>\n",
       "    <tr>\n",
       "      <th>0.90</th>\n",
       "      <td>9488.0</td>\n",
       "      <td>16010.2</td>\n",
       "      <td>19868.0</td>\n",
       "      <td>7758.8</td>\n",
       "      <td>4587.2</td>\n",
       "    </tr>\n",
       "  </tbody>\n",
       "</table>\n",
       "</div>"
      ],
      "text/plain": [
       "      Consumption   FeedIn  Production  Purchased  SelfConsumption\n",
       "0.10       4762.2     70.0       931.0     2421.8            752.0\n",
       "0.25       5756.0   1225.5      2729.0     3062.0           1312.0\n",
       "0.50       6863.0   5256.0      7779.0     4086.0           2332.0\n",
       "0.75       8097.0  12004.0     15824.0     5620.5           3518.0\n",
       "0.90       9488.0  16010.2     19868.0     7758.8           4587.2"
      ]
     },
     "execution_count": 4,
     "metadata": {},
     "output_type": "execute_result"
    }
   ],
   "source": [
    "(df_energy).groupby(df_energy.index.date).sum().quantile(q=[0.1, 0.25, 0.5, 0.75, 0.9])"
   ]
  },
  {
   "cell_type": "code",
   "execution_count": 5,
   "id": "c1fd358b",
   "metadata": {},
   "outputs": [],
   "source": [
    "measurement = 'electricity_power_watt'\n",
    "async with aioinflux.InfluxDBClient(**kwargs) as ifclient:\n",
    "    df_power = await ifclient.query(f\"\"\"\n",
    "        SELECT * FROM {measurement}\n",
    "    \"\"\")"
   ]
  },
  {
   "cell_type": "code",
   "execution_count": 6,
   "id": "890aefc3",
   "metadata": {},
   "outputs": [
    {
     "data": {
      "text/html": [
       "<div>\n",
       "<style scoped>\n",
       "    .dataframe tbody tr th:only-of-type {\n",
       "        vertical-align: middle;\n",
       "    }\n",
       "\n",
       "    .dataframe tbody tr th {\n",
       "        vertical-align: top;\n",
       "    }\n",
       "\n",
       "    .dataframe thead th {\n",
       "        text-align: right;\n",
       "    }\n",
       "</style>\n",
       "<table border=\"1\" class=\"dataframe\">\n",
       "  <thead>\n",
       "    <tr style=\"text-align: right;\">\n",
       "      <th></th>\n",
       "      <th>Consumption</th>\n",
       "      <th>FeedIn</th>\n",
       "      <th>Production</th>\n",
       "      <th>Purchased</th>\n",
       "      <th>SelfConsumption</th>\n",
       "    </tr>\n",
       "  </thead>\n",
       "  <tbody>\n",
       "    <tr>\n",
       "      <th>0.10</th>\n",
       "      <td>802.445632</td>\n",
       "      <td>98.579638</td>\n",
       "      <td>284.564132</td>\n",
       "      <td>401.502608</td>\n",
       "      <td>194.218468</td>\n",
       "    </tr>\n",
       "    <tr>\n",
       "      <th>0.25</th>\n",
       "      <td>1585.898750</td>\n",
       "      <td>775.028850</td>\n",
       "      <td>1032.462850</td>\n",
       "      <td>941.190350</td>\n",
       "      <td>259.683170</td>\n",
       "    </tr>\n",
       "    <tr>\n",
       "      <th>0.50</th>\n",
       "      <td>2025.742400</td>\n",
       "      <td>1767.864900</td>\n",
       "      <td>2009.717700</td>\n",
       "      <td>1521.268200</td>\n",
       "      <td>666.361900</td>\n",
       "    </tr>\n",
       "    <tr>\n",
       "      <th>0.75</th>\n",
       "      <td>2687.485800</td>\n",
       "      <td>2360.599050</td>\n",
       "      <td>2571.358300</td>\n",
       "      <td>2250.489250</td>\n",
       "      <td>1341.771700</td>\n",
       "    </tr>\n",
       "    <tr>\n",
       "      <th>0.90</th>\n",
       "      <td>3497.693980</td>\n",
       "      <td>2371.343380</td>\n",
       "      <td>2765.781340</td>\n",
       "      <td>2957.031420</td>\n",
       "      <td>1877.496280</td>\n",
       "    </tr>\n",
       "  </tbody>\n",
       "</table>\n",
       "</div>"
      ],
      "text/plain": [
       "      Consumption       FeedIn   Production    Purchased  SelfConsumption\n",
       "0.10   802.445632    98.579638   284.564132   401.502608       194.218468\n",
       "0.25  1585.898750   775.028850  1032.462850   941.190350       259.683170\n",
       "0.50  2025.742400  1767.864900  2009.717700  1521.268200       666.361900\n",
       "0.75  2687.485800  2360.599050  2571.358300  2250.489250      1341.771700\n",
       "0.90  3497.693980  2371.343380  2765.781340  2957.031420      1877.496280"
      ]
     },
     "execution_count": 6,
     "metadata": {},
     "output_type": "execute_result"
    }
   ],
   "source": [
    "(df_power).groupby(df_power.index.date).max().quantile(q=[0.1, 0.25, 0.5, 0.75, 0.9])"
   ]
  }
 ],
 "metadata": {
  "kernelspec": {
   "display_name": "Python 3",
   "language": "python",
   "name": "python3"
  },
  "language_info": {
   "codemirror_mode": {
    "name": "ipython",
    "version": 3
   },
   "file_extension": ".py",
   "mimetype": "text/x-python",
   "name": "python",
   "nbconvert_exporter": "python",
   "pygments_lexer": "ipython3",
   "version": "3.8.2"
  }
 },
 "nbformat": 4,
 "nbformat_minor": 5
}
